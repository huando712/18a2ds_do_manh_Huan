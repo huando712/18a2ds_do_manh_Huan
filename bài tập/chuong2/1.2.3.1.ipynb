{
 "cells": [
  {
   "cell_type": "code",
   "execution_count": 1,
   "id": "635755f0",
   "metadata": {},
   "outputs": [
    {
     "name": "stdout",
     "output_type": "stream",
     "text": [
      "Tên node gốc: #document\n",
      "Tên tag đầu tiên: employee\n"
     ]
    }
   ],
   "source": [
    "import xml.dom.minidom\n",
    "\n",
    "def main():\n",
    "    # Sử dụng hàm parse() để đọc và phân tích file \"employee.xml\"\n",
    "    # Sau đó chuyển đổi nó thành đối tượng 'doc'\n",
    "    doc = xml.dom.minidom.parse(\"employee.xml\")\n",
    "    \n",
    "    # In ra tên của node gốc (document node)\n",
    "    print(\"Tên node gốc:\", doc.nodeName)\n",
    "    \n",
    "    # In ra tag name của node đầu tiên trong file XML (ví dụ: 'employee')\n",
    "    print(\"Tên tag đầu tiên:\", doc.firstChild.tagName)\n",
    "\n",
    "if __name__ == \"__main__\":\n",
    "    main()\n"
   ]
  },
  {
   "cell_type": "markdown",
   "id": "690fb3a9",
   "metadata": {},
   "source": [
    "ví dụ so sánh"
   ]
  },
  {
   "cell_type": "code",
   "execution_count": null,
   "id": "ebdc7402",
   "metadata": {},
   "outputs": [],
   "source": [
    "import xml.dom.minidom\n",
    "\n",
    "def main():\n",
    "    # Sử dụng hàm parse() để đọc và phân tích file \"employee.xml\"\n",
    "    # Sau đó chuyển đổi nó thành đối tượng 'doc'\n",
    "    doc = xml.dom.minidom.parse(\"employee.xml\")\n",
    "    \n",
    "    # In ra tên của node gốc (document node)\n",
    "    print(\"Tên node gốc:\", doc.nodeName)\n",
    "    \n",
    "    # In ra tag name của node đầu tiên trong file XML (ví dụ: 'employee')\n",
    "    print(\"Tên tag đầu tiên:\", doc.firstChild.tagName)\n",
    "\n",
    "if __name__ == \"__main__\":\n",
    "    main()\n"
   ]
  },
  {
   "cell_type": "markdown",
   "id": "d4999405",
   "metadata": {},
   "source": [
    "vd 1.3.1.2\n"
   ]
  },
  {
   "cell_type": "code",
   "execution_count": 2,
   "id": "21c40f8b",
   "metadata": {},
   "outputs": [
    {
     "name": "stdout",
     "output_type": "stream",
     "text": [
      "Node gốc: #document\n",
      "Thẻ đầu tiên: employee\n",
      "4 kỹ năng:\n",
      "- SQL\n",
      "- Python\n",
      "- Testing\n",
      "- Business\n"
     ]
    }
   ],
   "source": [
    "import xml.dom.minidom\n",
    "\n",
    "def main():\n",
    "    # Dùng hàm parse() để đọc và phân tích file XML\n",
    "    doc = xml.dom.minidom.parse(\"employee.xml\")\n",
    "    \n",
    "    # In ra tên node gốc và tên thẻ đầu tiên\n",
    "    print(\"Node gốc:\", doc.nodeName)\n",
    "    print(\"Thẻ đầu tiên:\", doc.firstChild.tagName)\n",
    "    \n",
    "    # Lấy danh sách các thẻ <expertise> và in từng kỹ năng\n",
    "    expertise = doc.getElementsByTagName(\"expertise\")\n",
    "    print(\"%d kỹ năng:\" % expertise.length)\n",
    "    \n",
    "    for skill in expertise:\n",
    "        print(\"-\", skill.getAttribute(\"name\"))\n",
    "\n",
    "if __name__ == \"__main__\":\n",
    "    main()\n"
   ]
  },
  {
   "cell_type": "markdown",
   "id": "54ebb869",
   "metadata": {},
   "source": [
    "ví dụ 1.2.4.1"
   ]
  },
  {
   "cell_type": "code",
   "execution_count": 3,
   "id": "1792b467",
   "metadata": {},
   "outputs": [
    {
     "name": "stdout",
     "output_type": "stream",
     "text": [
      "Họ tên: Nguyễn Văn A\n",
      "Kỹ năng đầu tiên: SQL\n",
      "Thành phố: Hà Nội\n",
      "✅ Đã thêm kỹ năng mới và ghi vào file 'updated.xml'\n"
     ]
    }
   ],
   "source": [
    "import xml.etree.ElementTree as ET  # Bước 1\n",
    "\n",
    "# Đọc và phân tích file XML\n",
    "tree = ET.parse('employee.xml')     # Bước 2\n",
    "root = tree.getroot()\n",
    "\n",
    "# Lấy thông tin tên: ghép fname và lname\n",
    "fname = root.find('fname').text\n",
    "lname = root.find('lname').text\n",
    "print(\"Họ tên:\", lname, fname)\n",
    "\n",
    "# Lấy phần tử đầu tiên có thẻ <expertise>\n",
    "expertise = root.find('expertise')  # Bước 4\n",
    "print(\"Kỹ năng đầu tiên:\", expertise.attrib['name'])\n",
    "\n",
    "# Lấy nội dung thẻ <city>\n",
    "city = root.find('city')            # Bước 5\n",
    "print(\"Thành phố:\", city.text)\n",
    "\n",
    "# Tạo phần tử <expertise> mới và thêm vào XML\n",
    "new_expertise = ET.Element('expertise')\n",
    "new_expertise.attrib['name'] = 'XML'  # Bước 6\n",
    "root.append(new_expertise)\n",
    "\n",
    "# Ghi lại file XML mới\n",
    "tree.write('updated.xml', encoding=\"utf-8\", xml_declaration=True)\n",
    "print(\"✅ Đã thêm kỹ năng mới và ghi vào file 'updated.xml'\")\n"
   ]
  }
 ],
 "metadata": {
  "kernelspec": {
   "display_name": "Python 3",
   "language": "python",
   "name": "python3"
  },
  "language_info": {
   "codemirror_mode": {
    "name": "ipython",
    "version": 3
   },
   "file_extension": ".py",
   "mimetype": "text/x-python",
   "name": "python",
   "nbconvert_exporter": "python",
   "pygments_lexer": "ipython3",
   "version": "3.13.2"
  }
 },
 "nbformat": 4,
 "nbformat_minor": 5
}
