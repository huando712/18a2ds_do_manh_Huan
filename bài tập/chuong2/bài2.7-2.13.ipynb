{
 "cells": [
  {
   "cell_type": "markdown",
   "id": "e8f679d7",
   "metadata": {},
   "source": [
    "bài 2.7\n"
   ]
  },
  {
   "cell_type": "code",
   "execution_count": 2,
   "id": "3da81d44",
   "metadata": {},
   "outputs": [
    {
     "name": "stdout",
     "output_type": "stream",
     "text": [
      "Dữ liệu JSON:\n",
      "{\"name\": \"Nguyễn Văn A\", \"age\": 25, \"skills\": [\"Python\", \"R\", \"Machine Learning\"], \"address\": {\"city\": \"Hà Nội\", \"country\": \"Việt Nam\"}}\n"
     ]
    }
   ],
   "source": [
    "import json\n",
    "\n",
    "# Tạo đối tượng Python (dictionary)\n",
    "data = {\n",
    "    \"name\": \"Nguyễn Văn A\",\n",
    "    \"age\": 25,\n",
    "    \"skills\": [\"Python\", \"R\", \"Machine Learning\"],\n",
    "    \"address\": {\"city\": \"Hà Nội\", \"country\": \"Việt Nam\"}\n",
    "}\n",
    "\n",
    "# Chuyển sang chuỗi JSON (không indent, không xuống dòng)\n",
    "json_data = json.dumps(data, ensure_ascii=False)\n",
    "\n",
    "# In ra kết quả\n",
    "print(\"Dữ liệu JSON:\")\n",
    "print(json_data)\n",
    "\n",
    "# Ghi vào file JSON\n",
    "with open(\"bai2_7.json\", \"w\", encoding=\"utf-8\") as f:\n",
    "    f.write(json_data)\n"
   ]
  },
  {
   "cell_type": "markdown",
   "id": "74ca04a2",
   "metadata": {},
   "source": [
    "bài 2.8\n"
   ]
  },
  {
   "cell_type": "code",
   "execution_count": 3,
   "id": "5f1fad96",
   "metadata": {},
   "outputs": [
    {
     "name": "stdout",
     "output_type": "stream",
     "text": [
      "Dữ liệu đọc từ JSON:\n",
      "{'name': 'Nguyễn Văn A', 'age': 25, 'skills': ['Python', 'R', 'Machine Learning'], 'address': {'city': 'Hà Nội', 'country': 'Việt Nam'}}\n",
      "name: Nguyễn Văn A\n",
      "age: 25\n",
      "skills: ['Python', 'R', 'Machine Learning']\n",
      "address: {'city': 'Hà Nội', 'country': 'Việt Nam'}\n"
     ]
    }
   ],
   "source": [
    "import json\n",
    "\n",
    "# Đọc dữ liệu từ file JSON (từ bài 2.7)\n",
    "with open(\"bai2_7.json\", \"r\", encoding=\"utf-8\") as f:\n",
    "    data = json.load(f)\n",
    "\n",
    "print(\"Dữ liệu đọc từ JSON:\")\n",
    "print(data)\n",
    "\n",
    "# Duyệt qua các khóa trong dữ liệu\n",
    "for key, value in data.items():\n",
    "    print(f\"{key}: {value}\")\n"
   ]
  },
  {
   "cell_type": "markdown",
   "id": "60cd6046",
   "metadata": {},
   "source": [
    "bài 2.9\n"
   ]
  },
  {
   "cell_type": "code",
   "execution_count": 4,
   "id": "1f52e084",
   "metadata": {},
   "outputs": [
    {
     "name": "stdout",
     "output_type": "stream",
     "text": [
      "JSON đã sắp xếp theo khóa:\n",
      "{\n",
      "    \"address\": {\n",
      "        \"city\": \"Hà Nội\",\n",
      "        \"country\": \"Việt Nam\"\n",
      "    },\n",
      "    \"age\": 25,\n",
      "    \"name\": \"Nguyễn Văn A\",\n",
      "    \"skills\": [\n",
      "        \"Python\",\n",
      "        \"R\",\n",
      "        \"Machine Learning\"\n",
      "    ]\n",
      "}\n"
     ]
    }
   ],
   "source": [
    "import json\n",
    "\n",
    "# Đọc file JSON\n",
    "with open(\"bai2_7.json\", \"r\", encoding=\"utf-8\") as f:\n",
    "    data = json.load(f)\n",
    "\n",
    "# Chuyển lại sang JSON, sắp xếp khóa (sort_keys=True)\n",
    "sorted_json = json.dumps(data, indent=4, ensure_ascii=False, sort_keys=True)\n",
    "\n",
    "print(\"JSON đã sắp xếp theo khóa:\")\n",
    "print(sorted_json)\n"
   ]
  },
  {
   "cell_type": "markdown",
   "id": "013faa6d",
   "metadata": {},
   "source": [
    "bài 2.10"
   ]
  },
  {
   "cell_type": "code",
   "execution_count": 8,
   "id": "0239975f",
   "metadata": {},
   "outputs": [
    {
     "name": "stdout",
     "output_type": "stream",
     "text": [
      "✅ Đã tạo file nhanvien.json thành công.\n"
     ]
    }
   ],
   "source": [
    "import json\n",
    "\n",
    "# Tạo dữ liệu mẫu nếu file chưa có\n",
    "data_demo = {\n",
    "    \"company\": \"Công ty TNHH Đất Việt\",\n",
    "    \"address\": \"abc Thái Phương - Hà Nội\",\n",
    "    \"departments\": [\n",
    "        {\"name\": \"A1\", \"employees\": 10},\n",
    "        {\"name\": \"A2\", \"employees\": 5},\n",
    "        {\"name\": \"A3\", \"employees\": 15},\n",
    "        {\"name\": \"A4\", \"employees\": 20}\n",
    "    ]\n",
    "}\n",
    "\n",
    "with open(\"nhanvien.json\", \"w\", encoding=\"utf-8\") as f:\n",
    "    json.dump(data_demo, f, ensure_ascii=False)\n",
    "print(\"✅ Đã tạo file nhanvien.json thành công.\")\n",
    "\n"
   ]
  },
  {
   "cell_type": "code",
   "execution_count": null,
   "id": "7a5608c5",
   "metadata": {},
   "outputs": [
    {
     "name": "stdout",
     "output_type": "stream",
     "text": [
      "Tên công ty: Công ty TNHH Đất Việt\n",
      "Địa chỉ: abc Thái Phương - Hà Nội\n",
      "Tổng số nhân viên: 50\n",
      "\n",
      "------ Thống kê nhân viên theo đơn vị ------\n",
      "Tên đơn vị: A1\n",
      "  Số nhân viên: 10\n",
      "  Tỷ lệ: 20.00%\n",
      "\n",
      "Tên đơn vị: A2\n",
      "  Số nhân viên: 5\n",
      "  Tỷ lệ: 10.00%\n",
      "\n",
      "Tên đơn vị: A3\n",
      "  Số nhân viên: 15\n",
      "  Tỷ lệ: 30.00%\n",
      "\n",
      "Tên đơn vị: A4\n",
      "  Số nhân viên: 20\n",
      "  Tỷ lệ: 40.00%\n",
      "\n"
     ]
    }
   ],
   "source": [
    "with open(\"nhanvien.json\", \"r\", encoding=\"utf-8\") as f:\n",
    "    data = json.load(f)\n",
    "\n",
    "print(f\"Tên công ty: {data['company']}\")\n",
    "print(f\"Địa chỉ: {data['address']}\")\n",
    "\n",
    "tong_nv = sum(d[\"employees\"] for d in data[\"departments\"])\n",
    "print(f\"Tổng số nhân viên: {tong_nv}\\n\")\n",
    "\n",
    "print(\"------ Thống kê nhân viên theo đơn vị ------\")\n",
    "for dept in data[\"departments\"]:\n",
    "    ty_le = dept[\"employees\"] / tong_nv * 100\n",
    "    print(f\"Tên đơn vị: {dept['name']}\")\n",
    "    print(f\"  Số nhân viên: {dept['employees']}\")\n",
    "    print(f\"  Tỷ lệ: {ty_le:.2f}%\\n\")\n"
   ]
  },
  {
   "cell_type": "markdown",
   "id": "a09eea4d",
   "metadata": {},
   "source": [
    "bài 2.11\n"
   ]
  },
  {
   "cell_type": "code",
   "execution_count": null,
   "id": "b1b6d1ff",
   "metadata": {},
   "outputs": [
    {
     "name": "stdout",
     "output_type": "stream",
     "text": [
      "✅ Giao dịch đã được lưu thành công!\n",
      "\n"
     ]
    }
   ],
   "source": [
    "import json\n",
    "from datetime import datetime\n",
    "\n",
    "# Tên file lưu giao dịch\n",
    "file_name = \"giaodich.json\"\n",
    "\n",
    "while True:\n",
    "    # Nhập thông tin giao dịch\n",
    "    ten = input(\"Nhập tên giao dịch: \")\n",
    "    so_tien = float(input(\"Nhập số tiền: \"))\n",
    "\n",
    "    # Lấy thời gian hiện tại theo định dạng năm-tháng-ngày-giờ-phút-giây\n",
    "    thoi_gian = datetime.now().strftime(\"%Y-%m-%d-%H-%M-%S\")\n",
    "\n",
    "    # Tạo đối tượng giao dịch\n",
    "    transaction = {\n",
    "        \"ten_giao_dich\": ten,\n",
    "        \"so_tien\": so_tien,\n",
    "        \"thoi_gian\": thoi_gian\n",
    "    }\n",
    "\n",
    "    # Đọc dữ liệu cũ nếu có, ngược lại khởi tạo danh sách rỗng\n",
    "    try:\n",
    "        with open(file_name, \"r\", encoding=\"utf-8\") as f:\n",
    "            data = json.load(f)\n",
    "    except (FileNotFoundError, json.JSONDecodeError):\n",
    "        data = []\n",
    "\n",
    "    # Thêm giao dịch mới\n",
    "    data.append(transaction)\n",
    "\n",
    "    # Ghi lại toàn bộ danh sách giao dịch vào file\n",
    "    with open(file_name, \"w\", encoding=\"utf-8\") as f:\n",
    "        json.dump(data, f, ensure_ascii=False, indent=4)\n",
    "\n",
    "    print(\"✅ Giao dịch đã được lưu thành công!\\n\")\n",
    "\n",
    "    # Hỏi người dùng có muốn tiếp tục không\n",
    "    tiep_tuc = input(\"Bạn có muốn nhập thêm giao dịch không? (1: Có, 0: Không): \")\n",
    "    if tiep_tuc == \"0\":\n",
    "        print(\"Kết thúc chương trình. Dữ liệu đã được lưu trong\", file_name)\n",
    "        break\n"
   ]
  },
  {
   "cell_type": "markdown",
   "id": "c0b07076",
   "metadata": {},
   "source": [
    "bài 2.12"
   ]
  },
  {
   "cell_type": "code",
   "execution_count": 1,
   "id": "02a679de",
   "metadata": {},
   "outputs": [
    {
     "name": "stdout",
     "output_type": "stream",
     "text": [
      "Tổng số bài post nhận được: 100\n",
      "\n",
      "------ Danh sách các bài post đầu tiên ------\n",
      "\n",
      "User ID: 1\n",
      "Post ID: 1\n",
      "Title: sunt aut facere repellat provident occaecati excepturi optio reprehenderit\n",
      "Body: quia et suscipit\n",
      "suscipit recusandae consequuntur expedita et cum\n",
      "reprehenderit molestiae ut ut quas totam\n",
      "nostrum rerum est autem sunt rem eveniet architecto\n",
      "\n",
      "User ID: 1\n",
      "Post ID: 2\n",
      "Title: qui est esse\n",
      "Body: est rerum tempore vitae\n",
      "sequi sint nihil reprehenderit dolor beatae ea dolores neque\n",
      "fugiat blanditiis voluptate porro vel nihil molestiae ut reiciendis\n",
      "qui aperiam non debitis possimus qui neque nisi nulla\n",
      "\n",
      "User ID: 1\n",
      "Post ID: 3\n",
      "Title: ea molestias quasi exercitationem repellat qui ipsa sit aut\n",
      "Body: et iusto sed quo iure\n",
      "voluptatem occaecati omnis eligendi aut ad\n",
      "voluptatem doloribus vel accusantium quis pariatur\n",
      "molestiae porro eius odio et labore et velit aut\n",
      "\n",
      "User ID: 1\n",
      "Post ID: 4\n",
      "Title: eum et est occaecati\n",
      "Body: ullam et saepe reiciendis voluptatem adipisci\n",
      "sit amet autem assumenda provident rerum culpa\n",
      "quis hic commodi nesciunt rem tenetur doloremque ipsam iure\n",
      "quis sunt voluptatem rerum illo velit\n",
      "\n",
      "User ID: 1\n",
      "Post ID: 5\n",
      "Title: nesciunt quas odio\n",
      "Body: repudiandae veniam quaerat sunt sed\n",
      "alias aut fugiat sit autem sed est\n",
      "voluptatem omnis possimus esse voluptatibus quis\n",
      "est aut tenetur dolor neque\n",
      "\n"
     ]
    }
   ],
   "source": [
    "import requests\n",
    "\n",
    "# URL API cung cấp dữ liệu JSON giả lập (dùng cho học tập)\n",
    "url = \"https://jsonplaceholder.typicode.com/posts\"\n",
    "\n",
    "# Gửi yêu cầu GET đến API\n",
    "response = requests.get(url)\n",
    "\n",
    "# Chuyển dữ liệu JSON nhận được thành đối tượng Python (list các dict)\n",
    "posts = response.json()\n",
    "\n",
    "# In tổng số bài post\n",
    "print(f\"Tổng số bài post nhận được: {len(posts)}\\n\")\n",
    "\n",
    "# In ra một vài bài post đầu tiên\n",
    "print(\"------ Danh sách các bài post đầu tiên ------\\n\")\n",
    "for post in posts[:5]:  # chỉ hiển thị 5 bài đầu tiên\n",
    "    print(f\"User ID: {post['userId']}\")\n",
    "    print(f\"Post ID: {post['id']}\")\n",
    "    print(f\"Title: {post['title']}\")\n",
    "    print(f\"Body: {post['body']}\\n\")\n"
   ]
  },
  {
   "cell_type": "markdown",
   "id": "f780a8c3",
   "metadata": {},
   "source": [
    "bài 2.13"
   ]
  },
  {
   "cell_type": "code",
   "execution_count": 2,
   "id": "93c23d2b",
   "metadata": {},
   "outputs": [
    {
     "name": "stdout",
     "output_type": "stream",
     "text": [
      "Danh sách các bài post nổi bật (postId = 1):\n",
      "\n",
      "Bài post 1:\n",
      "Tên: id labore ex et quam laborum\n",
      "Email: Eliseo@gardner.biz\n",
      "Nội dung: laudantium enim quasi est quidem magnam voluptate ipsam eos\n",
      "tempora quo necessitatibus\n",
      "dolor quam autem quasi\n",
      "reiciendis et nam sapiente accusantium\n",
      "\n",
      "Bài post 2:\n",
      "Tên: quo vero reiciendis velit similique earum\n",
      "Email: Jayne_Kuhic@sydney.com\n",
      "Nội dung: est natus enim nihil est dolore omnis voluptatem numquam\n",
      "et omnis occaecati quod ullam at\n",
      "voluptatem error expedita pariatur\n",
      "nihil sint nostrum voluptatem reiciendis et\n",
      "\n",
      "Bài post 3:\n",
      "Tên: odio adipisci rerum aut animi\n",
      "Email: Nikita@garfield.biz\n",
      "Nội dung: quia molestiae reprehenderit quasi aspernatur\n",
      "aut expedita occaecati aliquam eveniet laudantium\n",
      "omnis quibusdam delectus saepe quia accusamus maiores nam est\n",
      "cum et ducimus et vero voluptates excepturi deleniti ratione\n"
     ]
    }
   ],
   "source": [
    "import requests\n",
    "\n",
    "url = \"https://jsonplaceholder.typicode.com/comments?postId=1\"\n",
    "response = requests.get(url)\n",
    "comments = response.json()\n",
    "\n",
    "print(\"Danh sách các bài post nổi bật (postId = 1):\")\n",
    "for i, cmt in enumerate(comments[:3], 1):\n",
    "    print(f\"\\nBài post {i}:\")\n",
    "    print(f\"Tên: {cmt['name']}\")\n",
    "    print(f\"Email: {cmt['email']}\")\n",
    "    print(f\"Nội dung: {cmt['body']}\")\n"
   ]
  }
 ],
 "metadata": {
  "kernelspec": {
   "display_name": "Python 3",
   "language": "python",
   "name": "python3"
  },
  "language_info": {
   "codemirror_mode": {
    "name": "ipython",
    "version": 3
   },
   "file_extension": ".py",
   "mimetype": "text/x-python",
   "name": "python",
   "nbconvert_exporter": "python",
   "pygments_lexer": "ipython3",
   "version": "3.13.2"
  }
 },
 "nbformat": 4,
 "nbformat_minor": 5
}
