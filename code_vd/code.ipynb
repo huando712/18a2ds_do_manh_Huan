{
 "cells": [
  {
   "cell_type": "markdown",
   "id": "cd3ed632",
   "metadata": {},
   "source": [
    "ví dụ 1.2.1.4\n",
    "\n"
   ]
  },
  {
   "cell_type": "code",
   "execution_count": null,
   "id": "6fcbc664",
   "metadata": {},
   "outputs": [],
   "source": [
    "class Dog:\n",
    "#Constructor có tham số\n",
    "  def __init__(self, name):\n",
    "   print('Đây là constructor có tham số.')\n",
    "   self.name=name\n",
    "def display(self):\n",
    "   print(\"Hello\",self.name)\n",
    "bull = Dog(\"The Dom\")\n",
    "bull.display()\n",
    "\n",
    " \n",
    "\n",
    "\n",
    "\n"
   ]
  },
  {
   "cell_type": "markdown",
   "id": "69110678",
   "metadata": {},
   "source": []
  },
  {
   "cell_type": "code",
   "execution_count": 10,
   "id": "1d90ae1f",
   "metadata": {},
   "outputs": [
    {
     "name": "stdout",
     "output_type": "stream",
     "text": [
      "base clase of dog: <class 'object'>\n",
      "None\n"
     ]
    },
    {
     "name": "stderr",
     "output_type": "stream",
     "text": [
      "<>:8: SyntaxWarning: 'str' object is not callable; perhaps you missed a comma?\n",
      "<>:8: SyntaxWarning: 'str' object is not callable; perhaps you missed a comma?\n",
      "C:\\Users\\ASUS\\AppData\\Local\\Temp\\ipykernel_12356\\1398631138.py:8: SyntaxWarning: 'str' object is not callable; perhaps you missed a comma?\n",
      "  print(\"name:%s, size:%s, age:%d, color:$s\"(self.name, self.size, self.age, self.color))\n"
     ]
    }
   ],
   "source": [
    "class dog:\n",
    "    def __init__(self, name, size, age, color):\n",
    "        self.name = name\n",
    "        self.size = size\n",
    "        self.age = age\n",
    "        self.color= color\n",
    "    def display_details(self):\n",
    "        print(\"name:%s, size:%s, age:%d, color:$s\"(self.name, self.size, self.age, self.color))\n",
    "bull=dog(\"dom\", \"large\", 2, \"yellow\")\n",
    "print(\"base clase of dog:\", dog.__base__)\n",
    "print(bull.__doc__)\n",
    "\n",
    "        "
   ]
  },
  {
   "cell_type": "code",
   "execution_count": 19,
   "id": "6c3db4c5",
   "metadata": {},
   "outputs": [
    {
     "ename": "AttributeError",
     "evalue": "type object 'Dog' has no attribute 'CreateDog'",
     "output_type": "error",
     "traceback": [
      "\u001b[31m---------------------------------------------------------------------------\u001b[39m",
      "\u001b[31mAttributeError\u001b[39m                            Traceback (most recent call last)",
      "\u001b[36mCell\u001b[39m\u001b[36m \u001b[39m\u001b[32mIn[19]\u001b[39m\u001b[32m, line 16\u001b[39m\n\u001b[32m     13\u001b[39m     \u001b[38;5;129m@classmethod\u001b[39m\n\u001b[32m     14\u001b[39m     \u001b[38;5;28;01mdef\u001b[39;00m\u001b[38;5;250m \u001b[39m\u001b[34mget_dog_count\u001b[39m(\u001b[38;5;28mcls\u001b[39m):\n\u001b[32m     15\u001b[39m      \u001b[38;5;28;01mreturn\u001b[39;00m \u001b[38;5;28mcls\u001b[39m.DogCount\n\u001b[32m---> \u001b[39m\u001b[32m16\u001b[39m obj = \u001b[43mDog\u001b[49m\u001b[43m.\u001b[49m\u001b[43mCreateDog\u001b[49m(\u001b[33m\"\u001b[39m\u001b[33mbull\u001b[39m\u001b[33m\"\u001b[39m, \u001b[33m\"\u001b[39m\u001b[33mlarge\u001b[39m\u001b[33m\"\u001b[39m, \u001b[32m2\u001b[39m, \u001b[33m\"\u001b[39m\u001b[33myellow\u001b[39m\u001b[33m\"\u001b[39m)\n\u001b[32m     17\u001b[39m \u001b[38;5;28mprint\u001b[39m(\u001b[33m\"\u001b[39m\u001b[33mSố lượng đối tượng Dog đã được tạo:\u001b[39m\u001b[33m\"\u001b[39m,\n\u001b[32m     18\u001b[39m Dog.get_dog_count())\n\u001b[32m     19\u001b[39m obj2 = Dog.CreateDog(\u001b[33m\"\u001b[39m\u001b[33mpoodle\u001b[39m\u001b[33m\"\u001b[39m, \u001b[33m\"\u001b[39m\u001b[33msmall\u001b[39m\u001b[33m\"\u001b[39m, \u001b[32m1\u001b[39m, \u001b[33m\"\u001b[39m\u001b[33mwhite\u001b[39m\u001b[33m\"\u001b[39m)\n",
      "\u001b[31mAttributeError\u001b[39m: type object 'Dog' has no attribute 'CreateDog'"
     ]
    }
   ],
   "source": [
    "class Dog:\n",
    "# Thuộc tính lớp\n",
    "  DogCount = 0\n",
    "  def __init__(self, name, size, age, color):\n",
    "    self.name = name # Thuộc tính đối tượng\n",
    "    self.size = size #\n",
    "    self.age = age #\n",
    "    self.color = color #\n",
    "    @classmethod\n",
    "    def CreateDog(cls, name, size, age, color):\n",
    "     cls.DogCount = cls.DogCount + 1\n",
    "     return cls(name, size, age, color)\n",
    "    @classmethod\n",
    "    def get_dog_count(cls):\n",
    "     return cls.DogCount\n",
    "obj = Dog.CreateDog(\"bull\", \"large\", 2, \"yellow\")\n",
    "print(\"Số lượng đối tượng Dog đã được tạo:\",\n",
    "Dog.get_dog_count())\n",
    "obj2 = Dog.CreateDog(\"poodle\", \"small\", 1, \"white\")\n",
    "print(\"Số lượng đối tượng Dog đã được tạo:\",\n",
    "Dog.get_dog_count())"
   ]
  },
  {
   "cell_type": "markdown",
   "id": "34cbf631",
   "metadata": {},
   "source": [
    "1.2.1.10\n"
   ]
  },
  {
   "cell_type": "markdown",
   "id": "fa45c639",
   "metadata": {},
   "source": [
    "ví dụ1.2.1.6\n"
   ]
  },
  {
   "cell_type": "code",
   "execution_count": null,
   "id": "1a1b6eea",
   "metadata": {},
   "outputs": [],
   "source": [
    "class Dog:\n",
    "# Class attributes\n",
    "   DogCount = 0\n",
    "def __init__(self, name, size, age, color):\n",
    "   self.name = name # object attributes\n",
    "   self.size = size # object attributes\n",
    "   self.age = age # object attributes\n",
    "   self.color = color # object attributes\n",
    "def __del__(self):\n",
    "  print(\"A dog object is being deleted.\")\n",
    "  obj = Dog(\"bull\", \"large\", 2, \"yellow\")\n",
    "  del obj"
   ]
  }
 ],
 "metadata": {
  "kernelspec": {
   "display_name": "Python 3",
   "language": "python",
   "name": "python3"
  },
  "language_info": {
   "codemirror_mode": {
    "name": "ipython",
    "version": 3
   },
   "file_extension": ".py",
   "mimetype": "text/x-python",
   "name": "python",
   "nbconvert_exporter": "python",
   "pygments_lexer": "ipython3",
   "version": "3.13.2"
  }
 },
 "nbformat": 4,
 "nbformat_minor": 5
}
