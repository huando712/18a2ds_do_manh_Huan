{
 "cells": [
  {
   "cell_type": "markdown",
   "id": "69e6179f",
   "metadata": {},
   "source": [
    "ví dụ 1.2.11\n"
   ]
  },
  {
   "cell_type": "code",
   "execution_count": 1,
   "id": "fb2435fc",
   "metadata": {},
   "outputs": [],
   "source": [
    "class Dog:\n",
    "    DogCount = 0   # Thuộc tính của lớp\n",
    "\n",
    "    def __init__(self, name, size, age, color):\n",
    "        self.name = name   # Thuộc tính đối tượng\n",
    "        self.size = size   # Thuộc tính đối tượng\n",
    "        self.age = age     # Thuộc tính đối tượng\n",
    "        self.color = color # Thuộc tính đối tượng\n",
    "        Dog.DogCount += 1  # Tăng bộ đếm (số lượng chó) lên 1 mỗi khi có đối tượng mới được tạo\n",
    "\n",
    "    # Instance method: Phương thức đối tượng (dùng self)\n",
    "    def show_count_instance(self):\n",
    "        print(f\"Số lượng đối tượng Dog đã được tạo [instance method] = {Dog.DogCount}\")\n",
    "\n",
    "    # Class method: Phương thức lớp (dùng cls)\n",
    "    @classmethod\n",
    "    def show_count_class(cls):\n",
    "        print(f\"Số lượng đối tượng Dog đã được tạo [class method] = {cls.DogCount}\")\n",
    "\n",
    "    # Static method: Phương thức tĩnh (không dùng self hay cls)\n",
    "    @staticmethod\n",
    "    def show_count_static():\n",
    "        print(f\"Số lượng đối tượng Dog đã được tạo [static method] = {Dog.DogCount}\")"
   ]
  },
  {
   "cell_type": "markdown",
   "id": "b103c23a",
   "metadata": {},
   "source": [
    "ví dụ 1.2.1"
   ]
  },
  {
   "cell_type": "code",
   "execution_count": 8,
   "id": "337a9a8b",
   "metadata": {},
   "outputs": [
    {
     "name": "stdout",
     "output_type": "stream",
     "text": [
      "Buddy is 5 years old\n",
      "Max is 3 years old\n"
     ]
    }
   ],
   "source": [
    "class Dog:\n",
    "    # Thuộc tính lớp\n",
    "    DogCount = 0\n",
    "    species = 'Dog'\n",
    "    # instance attribute\n",
    "    def __init__(self, name, size, age, color):\n",
    "        self.name = name # Thuộc tính đối tượng\n",
    "        self.size = size\n",
    "        self.age = age\n",
    "        self.color = color\n",
    "\n",
    "#instance của lớp Dog\n",
    "obj1 = Dog(\"Buddy\", \"Medium\", 5, \"Brown\")\n",
    "obj2 = Dog(\"Max\", \"Small\", 3, \"Black\")\n",
    "#Truy cập thuộc tính của instance\n",
    "print(\"{} is {} years old\".format(obj1.name, obj1.age))\n",
    "print(\"{} is {} years old\".format(obj2.name, obj2.age))"
   ]
  },
  {
   "cell_type": "markdown",
   "id": "75bcf848",
   "metadata": {},
   "source": [
    "ví dụ 1.3.1.1b\n"
   ]
  },
  {
   "cell_type": "code",
   "execution_count": 9,
   "id": "82f93d63",
   "metadata": {},
   "outputs": [],
   "source": [
    "class Dog:\n",
    "    \"\"\"\n",
    "    Minh họa lớp Dog với các thuộc tính protected\n",
    "    \"\"\"\n",
    "    _DogCount = 0   # protected: thuộc tính LỚP (giao diện protected)\n",
    "\n",
    "    def __init__(self, name: str, size: str, age: int):\n",
    "        self._name = name    # protected: thuộc tính protected (theo quy ước)\n",
    "        Dog._DogCount += 1   # tăng thuộc tính lớp\n",
    "\n",
    "    def _display(self):  # Phương thức protected\n",
    "        print(f\"Name is {self._name}\")"
   ]
  },
  {
   "cell_type": "code",
   "execution_count": 10,
   "id": "503de65f",
   "metadata": {},
   "outputs": [
    {
     "name": "stdout",
     "output_type": "stream",
     "text": [
      "Name is Bull\n"
     ]
    }
   ],
   "source": [
    "d = Dog(\"Bull\", \"large\", 2)\n",
    "d._display()   # ✓ Phương thức không protected: dùng trong lớp"
   ]
  },
  {
   "cell_type": "markdown",
   "id": "6c7bc462",
   "metadata": {},
   "source": [
    "ví dụ 1.3.1.1c\n"
   ]
  },
  {
   "cell_type": "code",
   "execution_count": 12,
   "id": "574d1782",
   "metadata": {},
   "outputs": [],
   "source": [
    "class Dog:\n",
    " __DogCount =0\n",
    "def __init__(self,name,size,age, color):\n",
    " self._name = name #Protected attributes\n",
    " self._size = size #Protected attributes\n",
    " self.__age = age #Private attributes \n",
    " Dog.__DogCount+=1\n",
    "# Getter method for _name\n",
    "def get_name(self) :\n",
    " return self._name\n",
    "def get_age(self) :\n",
    " return self.__age\n",
    "#Setter method for _age\n",
    "def set_age(self,new_value):\n",
    " self.__age=new_value "
   ]
  },
  {
   "cell_type": "code",
   "execution_count": 15,
   "id": "f19ed171",
   "metadata": {},
   "outputs": [
    {
     "ename": "AttributeError",
     "evalue": "'Dog' object has no attribute 'set_age'",
     "output_type": "error",
     "traceback": [
      "\u001b[31m---------------------------------------------------------------------------\u001b[39m",
      "\u001b[31mAttributeError\u001b[39m                            Traceback (most recent call last)",
      "\u001b[36mCell\u001b[39m\u001b[36m \u001b[39m\u001b[32mIn[15]\u001b[39m\u001b[32m, line 1\u001b[39m\n\u001b[32m----> \u001b[39m\u001b[32m1\u001b[39m \u001b[43mobj1\u001b[49m\u001b[43m.\u001b[49m\u001b[43mset_age\u001b[49m(\u001b[32m5\u001b[39m)\n\u001b[32m      2\u001b[39m \u001b[38;5;28mprint\u001b[39m(\u001b[33m\"\u001b[39m\u001b[33mDog\u001b[39m\u001b[33m'\u001b[39m\u001b[33ms age is \u001b[39m\u001b[38;5;132;01m{}\u001b[39;00m\u001b[33m\"\u001b[39m.format(obj1.get_age()))\n",
      "\u001b[31mAttributeError\u001b[39m: 'Dog' object has no attribute 'set_age'"
     ]
    }
   ],
   "source": [
    "\n",
    "obj1.set_age(5)\n",
    "print(\"Dog's age is {}\".format(obj1.get_age()))"
   ]
  },
  {
   "cell_type": "markdown",
   "id": "16e6aa6d",
   "metadata": {},
   "source": [
    "ví dụ 1.3.1.2\n"
   ]
  },
  {
   "cell_type": "markdown",
   "id": "0a342e49",
   "metadata": {},
   "source": [
    "ví dụ ứng dụng"
   ]
  },
  {
   "cell_type": "code",
   "execution_count": null,
   "id": "6fbb0e87",
   "metadata": {},
   "outputs": [],
   "source": []
  },
  {
   "cell_type": "code",
   "execution_count": null,
   "id": "4847d28f",
   "metadata": {},
   "outputs": [],
   "source": []
  },
  {
   "cell_type": "markdown",
   "id": "cf39e628",
   "metadata": {},
   "source": [
    "ví dụ 1.3.2.1\n"
   ]
  },
  {
   "cell_type": "code",
   "execution_count": 16,
   "id": "77f5ee27",
   "metadata": {},
   "outputs": [],
   "source": [
    "class Animal:\n",
    "    \"\"\" Lớp cơ sở (lớp cha)\"\"\"\n",
    "    def __init__(self, name):\n",
    "        self._name = name\n",
    "\n",
    "    def Display(self):        # Hiển thị tên con vật\n",
    "        print(\"I'm {}\".format(self._name))\n",
    "\n",
    "\n",
    "class Dog(Animal):\n",
    "    \"\"\" Lớp dẫn xuất (lớp con)\"\"\"\n",
    "    def __init__(self, name, size, age, color):  # Khởi tạo lớp con\n",
    "        super().__init__(name)   # Gọi hàm khởi tạo của lớp cha\n",
    "        self.size = size\n",
    "        self.age = age\n",
    "        self.color = color\n",
    "\n",
    "    def Go(self, place):         # Phương thức riêng của lớp con\n",
    "        print(\"I'm going to {}\".format(place))"
   ]
  },
  {
   "cell_type": "markdown",
   "id": "a0fb3f4e",
   "metadata": {},
   "source": [
    "ví dụ 1.3.2.2"
   ]
  },
  {
   "cell_type": "code",
   "execution_count": 21,
   "id": "b1019b26",
   "metadata": {},
   "outputs": [
    {
     "name": "stdout",
     "output_type": "stream",
     "text": [
      "Zebra\n",
      "Donkey\n",
      "Zonkey\n"
     ]
    },
    {
     "ename": "AttributeError",
     "evalue": "'Zonkey' object has no attribute 'Display'",
     "output_type": "error",
     "traceback": [
      "\u001b[31m---------------------------------------------------------------------------\u001b[39m",
      "\u001b[31mAttributeError\u001b[39m                            Traceback (most recent call last)",
      "\u001b[36mCell\u001b[39m\u001b[36m \u001b[39m\u001b[32mIn[21]\u001b[39m\u001b[32m, line 17\u001b[39m\n\u001b[32m     15\u001b[39m     \u001b[38;5;28mprint\u001b[39m(\u001b[33m\"\u001b[39m\u001b[33mZonkey\u001b[39m\u001b[33m\"\u001b[39m)\n\u001b[32m     16\u001b[39m obj = Zonkey()\n\u001b[32m---> \u001b[39m\u001b[32m17\u001b[39m \u001b[43mobj\u001b[49m\u001b[43m.\u001b[49m\u001b[43mDisplay\u001b[49m()\n",
      "\u001b[31mAttributeError\u001b[39m: 'Zonkey' object has no attribute 'Display'"
     ]
    }
   ],
   "source": [
    "class Zebra: #Lớp cha1\n",
    " def __init__ (self):\n",
    "   print (\"Zebra\")\n",
    "def Display(self): \n",
    "   print(\"I'm a zebra\")\n",
    "class Donkey: #Lớp cha2\n",
    " def __init__(self):\n",
    "    print(\"Donkey\") \n",
    "def Display(self):\n",
    "   print(\"I'm a donkey\")\n",
    "class Zonkey(Zebra, Donkey):\n",
    " def __init__(self):\n",
    "    Zebra.__init__(self) \n",
    "    Donkey.__init__ (self) \n",
    "    print(\"Zonkey\")\n",
    "obj = Zonkey()\n",
    "obj.Display()"
   ]
  },
  {
   "cell_type": "markdown",
   "id": "b9f8624d",
   "metadata": {},
   "source": [
    "thừa kế đa cấp\n"
   ]
  },
  {
   "cell_type": "code",
   "execution_count": 22,
   "id": "67ebcf06",
   "metadata": {},
   "outputs": [
    {
     "name": "stdout",
     "output_type": "stream",
     "text": [
      "Tôi là Lớp Cháu, tên của tôi là Cháu C\n",
      "Tôi là Lớp Con, tên của tôi là Bác B\n",
      "Tôi là Lớp Cha, tên của tôi là Ông A\n"
     ]
    }
   ],
   "source": [
    "class LopCha:\n",
    "    def __init__(self, ten_cha):\n",
    "        self.ten_cha = ten_cha\n",
    "\n",
    "    def thong_tin(self):\n",
    "        print(\"Tôi là Lớp Cha, tên của tôi là\", self.ten_cha)\n",
    "\n",
    "\n",
    "class LopCon(LopCha):\n",
    "    def __init__(self, ten_cha, ten_con):\n",
    "        # Gọi hàm khởi tạo của lớp cha để khởi tạo các thuộc tính từ lớp cha\n",
    "        super().__init__(ten_cha)\n",
    "        self.ten_con = ten_con\n",
    "\n",
    "    def thong_tin(self):\n",
    "        print(\"Tôi là Lớp Con, tên của tôi là\", self.ten_con)\n",
    "        # Gọi phương thức của lớp cha bằng cách sử dụng super()\n",
    "        super().thong_tin()\n",
    "\n",
    "\n",
    "class LopChau(LopCon):\n",
    "    def __init__(self, ten_cha, ten_con, ten_chau):\n",
    "        # Gọi hàm khởi tạo của LopCha và LopCon để khởi tạo các thuộc tính\n",
    "        # LớpChau kế thừa LopCon\n",
    "        super().__init__(ten_cha, ten_con)\n",
    "        self.ten_chau = ten_chau\n",
    "\n",
    "    def thong_tin(self):\n",
    "        print(\"Tôi là Lớp Cháu, tên của tôi là\", self.ten_chau)\n",
    "        # Gọi phương thức của LopCon\n",
    "        super().thong_tin()\n",
    "\n",
    "\n",
    "# Sử dụng các lớp\n",
    "lop_chau = LopChau(\"Ông A\", \"Bác B\", \"Cháu C\")\n",
    "lop_chau.thong_tin()"
   ]
  },
  {
   "cell_type": "markdown",
   "id": "37dc4af3",
   "metadata": {},
   "source": [
    "vd 1.3.4.1"
   ]
  },
  {
   "cell_type": "code",
   "execution_count": 23,
   "id": "07021d9c",
   "metadata": {},
   "outputs": [
    {
     "name": "stdout",
     "output_type": "stream",
     "text": [
      "Whoooopp whoooppp...\n",
      "Meooo meooo\n"
     ]
    }
   ],
   "source": [
    "from abc import ABC, abstractmethod\n",
    "#Tạo lớp trừu tượng 'Animal' với phương thức trừu tượng 'Say'\n",
    "class Animal(ABC):\n",
    "  @abstractmethod\n",
    "  def Say(self):\n",
    "   pass\n",
    "#Tạo lớp con 'Dog' kế thừa từ 'Animal'\n",
    "class Dog(Animal):\n",
    "  def Say(self):\n",
    "   print(\"Whoooopp whoooppp...\")\n",
    "#Tạo lớp con 'Cat' kế thừa từ 'Animal'\n",
    "class Cat(Animal):\n",
    "   def Say(self):\n",
    "    print(\"Meooo meooo\")\n",
    "#Định nghĩa một phương thức 'Jump' cho lớp 'Cat'\n",
    "   def Jump(self):\n",
    "     print(\"I'm jumping up high\")\n",
    "#Khởi tạo đối tượng từ lớp 'Dog'\n",
    "obj_dog = Dog()\n",
    "#Gọi phương thức 'Say' của đối tượng 'obj_dog'\n",
    "obj_dog.Say()\n",
    "#Khởi tạo đối tượng từ lớp 'Cat'\n",
    "obj_cat=Cat()\n",
    "#Gọi phương thức 'Say' của đối tượng 'obj_cat'\n",
    "obj_cat.Say()"
   ]
  }
 ],
 "metadata": {
  "kernelspec": {
   "display_name": "Python 3",
   "language": "python",
   "name": "python3"
  },
  "language_info": {
   "codemirror_mode": {
    "name": "ipython",
    "version": 3
   },
   "file_extension": ".py",
   "mimetype": "text/x-python",
   "name": "python",
   "nbconvert_exporter": "python",
   "pygments_lexer": "ipython3",
   "version": "3.13.2"
  }
 },
 "nbformat": 4,
 "nbformat_minor": 5
}
